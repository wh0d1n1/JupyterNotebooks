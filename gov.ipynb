{
 "metadata": {
  "language_info": {
   "codemirror_mode": {
    "name": "ipython",
    "version": 3
   },
   "file_extension": ".py",
   "mimetype": "text/x-python",
   "name": "python",
   "nbconvert_exporter": "python",
   "pygments_lexer": "ipython3",
   "version": "3.7.4-final"
  },
  "orig_nbformat": 2,
  "kernelspec": {
   "name": "python3",
   "display_name": "Python 3",
   "language": "python"
  }
 },
 "nbformat": 4,
 "nbformat_minor": 2,
 "cells": [
  {
   "cell_type": "code",
   "execution_count": 63,
   "metadata": {
    "tags": []
   },
   "outputs": [
    {
     "output_type": "execute_result",
     "data": {
      "text/plain": [
       "                     LanguageCode  SearchParameters  \\\n",
       "SearchResultCount              EN               NaN   \n",
       "SearchResultCountAll           EN               NaN   \n",
       "SearchResultItems              EN               NaN   \n",
       "UserArea                       EN               NaN   \n",
       "\n",
       "                                                           SearchResult  \n",
       "SearchResultCount                                                     1  \n",
       "SearchResultCountAll                                                 95  \n",
       "SearchResultItems     [{'MatchedObjectId': '587995900', 'MatchedObje...  \n",
       "UserArea               {'NumberOfPages': '95', 'IsRadialSearch': False}  "
      ],
      "text/html": "<div>\n<style scoped>\n    .dataframe tbody tr th:only-of-type {\n        vertical-align: middle;\n    }\n\n    .dataframe tbody tr th {\n        vertical-align: top;\n    }\n\n    .dataframe thead th {\n        text-align: right;\n    }\n</style>\n<table border=\"1\" class=\"dataframe\">\n  <thead>\n    <tr style=\"text-align: right;\">\n      <th></th>\n      <th>LanguageCode</th>\n      <th>SearchParameters</th>\n      <th>SearchResult</th>\n    </tr>\n  </thead>\n  <tbody>\n    <tr>\n      <td>SearchResultCount</td>\n      <td>EN</td>\n      <td>NaN</td>\n      <td>1</td>\n    </tr>\n    <tr>\n      <td>SearchResultCountAll</td>\n      <td>EN</td>\n      <td>NaN</td>\n      <td>95</td>\n    </tr>\n    <tr>\n      <td>SearchResultItems</td>\n      <td>EN</td>\n      <td>NaN</td>\n      <td>[{'MatchedObjectId': '587995900', 'MatchedObje...</td>\n    </tr>\n    <tr>\n      <td>UserArea</td>\n      <td>EN</td>\n      <td>NaN</td>\n      <td>{'NumberOfPages': '95', 'IsRadialSearch': False}</td>\n    </tr>\n  </tbody>\n</table>\n</div>"
     },
     "metadata": {},
     "execution_count": 63
    }
   ],
   "source": [
    "import requests\n",
    "import pandas as pd\n",
    "\n",
    "headers= {          \n",
    "    \"Host\": \"data.usajobs.gov\",          \n",
    "    \"User-Agent\": \"wh0d1n1@m4g1k.com\",          \n",
    "    \"Authorization-Key\": \"EXkHdLQKJCxpofutI4BIOjZ1ktjMYpcwGjXnjnVMjBw=\"      \n",
    "}\n",
    "\n",
    "resp = requests.get(\"https://data.usajobs.gov/api/search?Keyword=gis&Page=1&ResultsPerPage=1\",headers=headers).json()\n",
    "\n",
    "df = pd.DataFrame.from_dict(resp)\n",
    "\n",
    "df\n"
   ]
  },
  {
   "cell_type": "code",
   "execution_count": null,
   "metadata": {},
   "outputs": [],
   "source": []
  },
  {
   "cell_type": "code",
   "execution_count": 3,
   "metadata": {},
   "outputs": [
    {
     "output_type": "execute_result",
     "data": {
      "text/plain": [
       "                     LanguageCode  SearchParameters  \\\n",
       "SearchResultCount              EN               NaN   \n",
       "SearchResultCountAll           EN               NaN   \n",
       "SearchResultItems              EN               NaN   \n",
       "UserArea                       EN               NaN   \n",
       "\n",
       "                                                           SearchResult  \n",
       "SearchResultCount                                                    25  \n",
       "SearchResultCountAll                                              10000  \n",
       "SearchResultItems     [{'MatchedObjectId': '451842500', 'MatchedObje...  \n",
       "UserArea              {'NumberOfPages': '400', 'IsRadialSearch': False}  "
      ],
      "text/html": "<div>\n<style scoped>\n    .dataframe tbody tr th:only-of-type {\n        vertical-align: middle;\n    }\n\n    .dataframe tbody tr th {\n        vertical-align: top;\n    }\n\n    .dataframe thead th {\n        text-align: right;\n    }\n</style>\n<table border=\"1\" class=\"dataframe\">\n  <thead>\n    <tr style=\"text-align: right;\">\n      <th></th>\n      <th>LanguageCode</th>\n      <th>SearchParameters</th>\n      <th>SearchResult</th>\n    </tr>\n  </thead>\n  <tbody>\n    <tr>\n      <td>SearchResultCount</td>\n      <td>EN</td>\n      <td>NaN</td>\n      <td>25</td>\n    </tr>\n    <tr>\n      <td>SearchResultCountAll</td>\n      <td>EN</td>\n      <td>NaN</td>\n      <td>10000</td>\n    </tr>\n    <tr>\n      <td>SearchResultItems</td>\n      <td>EN</td>\n      <td>NaN</td>\n      <td>[{'MatchedObjectId': '451842500', 'MatchedObje...</td>\n    </tr>\n    <tr>\n      <td>UserArea</td>\n      <td>EN</td>\n      <td>NaN</td>\n      <td>{'NumberOfPages': '400', 'IsRadialSearch': False}</td>\n    </tr>\n  </tbody>\n</table>\n</div>"
     },
     "metadata": {},
     "execution_count": 3
    }
   ],
   "source": [
    "#!/usr/bin/python\n",
    "import requests\n",
    "import json\n",
    "import pandas as pd\n",
    "from datetime import datetime\n",
    "import dateutil.parser\n",
    "\n",
    "url =\"https://data.usajobs.gov/api/search?\"\n",
    "\n",
    "querystring = {\"keyword\":\"gis\",\"WhoMayApply\":\"All\"}\n",
    "\n",
    "headers = {\n",
    "   'authorization-key': \"EXkHdLQKJCxpofutI4BIOjZ1ktjMYpcwGjXnjnVMjBw=\",\n",
    "    'user-agent': \"wh0d1n1@m4g1k.com\",\n",
    "    'host': \"data.usajobs.gov\",\n",
    "    'cache-control': \"no-cache\",\n",
    "    }\n",
    "\n",
    "requests = requests.request(\"GET\", url, headers=headers, params=querystring).json()\n",
    "\n",
    "\n",
    "df = pd.DataFrame.from_dict(requests)\n",
    "\n",
    "df"
   ]
  },
  {
   "cell_type": "code",
   "execution_count": null,
   "metadata": {},
   "outputs": [],
   "source": []
  }
 ]
}