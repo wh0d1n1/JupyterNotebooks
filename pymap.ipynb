{
 "metadata": {
  "language_info": {
   "codemirror_mode": {
    "name": "ipython",
    "version": 3
   },
   "file_extension": ".py",
   "mimetype": "text/x-python",
   "name": "python",
   "nbconvert_exporter": "python",
   "pygments_lexer": "ipython3",
   "version": "3.7.4-final"
  },
  "orig_nbformat": 2,
  "kernelspec": {
   "name": "python3",
   "display_name": "Python 3",
   "language": "python"
  }
 },
 "nbformat": 4,
 "nbformat_minor": 2,
 "cells": [
  {
   "cell_type": "code",
   "execution_count": 1,
   "metadata": {},
   "outputs": [
    {
     "output_type": "error",
     "ename": "ModuleNotFoundError",
     "evalue": "No module named 'pipegeojson'",
     "traceback": [
      "\u001b[1;31m---------------------------------------------------------------------------\u001b[0m",
      "\u001b[1;31mModuleNotFoundError\u001b[0m                       Traceback (most recent call last)",
      "\u001b[1;32m<ipython-input-1-c14083bc4444>\u001b[0m in \u001b[0;36m<module>\u001b[1;34m\u001b[0m\n\u001b[1;32m----> 1\u001b[1;33m \u001b[1;32mimport\u001b[0m \u001b[0mberrl\u001b[0m \u001b[1;32mas\u001b[0m \u001b[0mbl\u001b[0m\u001b[1;33m\u001b[0m\u001b[1;33m\u001b[0m\u001b[0m\n\u001b[0m\u001b[0;32m      2\u001b[0m \u001b[1;32mimport\u001b[0m \u001b[0mpandas\u001b[0m \u001b[1;32mas\u001b[0m \u001b[0mpd\u001b[0m\u001b[1;33m\u001b[0m\u001b[1;33m\u001b[0m\u001b[0m\n\u001b[0;32m      3\u001b[0m \u001b[1;32mimport\u001b[0m \u001b[0mnumpy\u001b[0m \u001b[1;32mas\u001b[0m \u001b[0mnp\u001b[0m\u001b[1;33m\u001b[0m\u001b[1;33m\u001b[0m\u001b[0m\n\u001b[0;32m      4\u001b[0m \u001b[1;32mimport\u001b[0m \u001b[0mitertools\u001b[0m\u001b[1;33m\u001b[0m\u001b[1;33m\u001b[0m\u001b[0m\n\u001b[0;32m      5\u001b[0m \u001b[1;33m\u001b[0m\u001b[0m\n",
      "\u001b[1;32mD:\\Anaconda3\\lib\\site-packages\\berrl\\__init__.py\u001b[0m in \u001b[0;36m<module>\u001b[1;34m\u001b[0m\n\u001b[1;32m----> 1\u001b[1;33m \u001b[1;32mfrom\u001b[0m \u001b[0mpipegeojson\u001b[0m \u001b[1;32mimport\u001b[0m \u001b[1;33m*\u001b[0m\u001b[1;33m\u001b[0m\u001b[1;33m\u001b[0m\u001b[0m\n\u001b[0m\u001b[0;32m      2\u001b[0m \u001b[1;32mfrom\u001b[0m \u001b[0mpipegeohash\u001b[0m \u001b[1;32mimport\u001b[0m \u001b[1;33m*\u001b[0m\u001b[1;33m\u001b[0m\u001b[1;33m\u001b[0m\u001b[0m\n\u001b[0;32m      3\u001b[0m \u001b[1;32mfrom\u001b[0m \u001b[0mpipehtml\u001b[0m \u001b[1;32mimport\u001b[0m \u001b[1;33m*\u001b[0m\u001b[1;33m\u001b[0m\u001b[1;33m\u001b[0m\u001b[0m\n\u001b[0;32m      4\u001b[0m \u001b[1;32mfrom\u001b[0m \u001b[0mpostgis_interface\u001b[0m \u001b[1;32mimport\u001b[0m \u001b[1;33m*\u001b[0m\u001b[1;33m\u001b[0m\u001b[1;33m\u001b[0m\u001b[0m\n\u001b[0;32m      5\u001b[0m \u001b[1;32mfrom\u001b[0m \u001b[0mquickmaps\u001b[0m \u001b[1;32mimport\u001b[0m \u001b[1;33m*\u001b[0m\u001b[1;33m\u001b[0m\u001b[1;33m\u001b[0m\u001b[0m\n",
      "\u001b[1;31mModuleNotFoundError\u001b[0m: No module named 'pipegeojson'"
     ]
    }
   ],
   "source": [
    "import berrl as bl\n",
    "import pandas as pd\n",
    "import numpy as np\n",
    "import itertools\n",
    "\n",
    "apikey='your api key'\n",
    "\n",
    "# all the colors currently available for input\n",
    "colors=['default','light green', 'blue', 'red', 'yellow', 'light blue', 'orange', 'purple', 'green', 'brown', 'pink']\n",
    "\n",
    "# reading csv file to pandas\n",
    "data=pd.read_csv('sharks.csv')\n",
    "\n",
    "# mapping table to precision 4 geohashs\n",
    "data=bl.map_table(data,3,list=True) # this creates a csv file with a density block table\n",
    "squares=pd.read_csv('squares3.csv')\n",
    "squares=squares[:10] # getting the top 10 densest geohash squares\n",
    "\n",
    "# getting each unique geohash\n",
    "geohashs=np.unique(squares['GEOHASH']).tolist()\n",
    "\n",
    "# constructing list of all top shark attack incidents\n",
    "total=[data.columns.values.tolist()]\n",
    "for row in geohashs:\n",
    "\ttemp=data[data.GEOHASH==str(row)] # getting all the geohashs within the entire table\n",
    "\ttemp=bl.df2list(temp) # taking dataframe to list\n",
    "\ttotal+=temp[1:] #ignoring the header on each temporary list\n",
    "\n",
    "\n",
    "# taking list back to dataframe\n",
    "total=bl.list2df(total)\n",
    "\n",
    "# getting the unique activities that occured\n",
    "uniques=np.unique(total['Activity']).tolist()\n",
    "\n",
    "# we now have a list with each top geohash in a aggregated table\n",
    "# we can now style each color icon based on each activity being performed during the attack\n",
    "count=0\n",
    "filenames=[]\n",
    "for unique,color in itertools.izip(uniques,colors):\n",
    "\tcount+=1\n",
    "\tfilename=str(count)+'.geojson' # generating a dummy file name\n",
    "\ttemp=total[total.Activity==unique] \n",
    "\tif not len(temp)==0: # if dataframe is empty will not make_points\n",
    "\t\ttemp['color']=str(color) # setting specific color to object\n",
    "\t\ta=bl.make_points(temp,list=True) # making geojson object \n",
    "\t\tbl.parselist(a,filename) # writing object to file\n",
    "\t\tfilenames.append(filename)\n",
    "\n",
    "# writing the squares table and setting color to red\n",
    "squares['color']='red'\n",
    "a=bl.make_blocks(squares,list=True)\n",
    "bl.parselist(a,'squares.geojson')\n",
    "\n",
    "# adding squares to filenames\n",
    "filenames.append('squares.geojson')\n",
    "\n",
    "#loading final html\n",
    "bl.loadparsehtml(filenames,apikey,colorkey='color')"
   ]
  },
  {
   "cell_type": "code",
   "execution_count": 5,
   "metadata": {},
   "outputs": [
    {
     "output_type": "stream",
     "name": "stdout",
     "text": [
      "Collecting berrl\n  Using cached https://files.pythonhosted.org/packages/d4/74/dbd386472f6f4e70e97029a46b4854e9654e39288aa7f1e063e25a068664/berrl-1.4.tar.gz\nBuilding wheels for collected packages: berrl\n  Building wheel for berrl (setup.py): started\n  Building wheel for berrl (setup.py): finished with status 'done'\n  Created wheel for berrl: filename=berrl-1.4-cp37-none-any.whl size=53501 sha256=d1a8e56405ce0655b9620ac8b0021c334c80de414d35664107ecce840d7fb584\n  Stored in directory: C:\\Users\\Travis Padilla\\AppData\\Local\\pip\\Cache\\wheels\\c7\\c8\\59\\0b1f88c74f37b0789bfa4472de5a138928050453a921720f04\nSuccessfully built berrl\nInstalling collected packages: berrl\nSuccessfully installed berrl-1.4\nNote: you may need to restart the kernel to use updated packages.\n"
     ]
    }
   ],
   "source": [
    "pip install berrl"
   ]
  },
  {
   "cell_type": "code",
   "execution_count": 2,
   "metadata": {},
   "outputs": [
    {
     "output_type": "stream",
     "name": "stdout",
     "text": [
      "Collecting pipegeojson\n",
      "  Downloading https://files.pythonhosted.org/packages/62/96/19c6f29278f48a87927f3f1007f5e074005921902b5b02753a2de9970fc5/pipegeojson-1.0.tar.gz\n",
      "Building wheels for collected packages: pipegeojson\n",
      "  Building wheel for pipegeojson (setup.py): started\n",
      "  Building wheel for pipegeojson (setup.py): finished with status 'done'\n",
      "  Created wheel for pipegeojson: filename=pipegeojson-1.0-cp37-none-any.whl size=9149 sha256=3ab1460c59da7de0c04886becf170f4f712cc4d1be4a80e462076f64fe0a8fbe\n",
      "  Stored in directory: C:\\Users\\Travis Padilla\\AppData\\Local\\pip\\Cache\\wheels\\37\\32\\c8\\ee7cc4e8811458d7f4f958d0b52e42fb28726098463609d625\n",
      "Successfully built pipegeojson\n",
      "Installing collected packages: pipegeojson\n",
      "Successfully installed pipegeojson-1.0\n",
      "Note: you may need to restart the kernel to use updated packages.\n",
      "  WARNING: Retrying (Retry(total=4, connect=None, read=None, redirect=None, status=None)) after connection broken by 'ReadTimeoutError(\"HTTPSConnectionPool(host='pypi.org', port=443): Read timed out. (read timeout=15)\")': /simple/pipegeojson/\n"
     ]
    }
   ],
   "source": [
    "pip install pipegeojson "
   ]
  },
  {
   "cell_type": "code",
   "execution_count": null,
   "metadata": {},
   "outputs": [],
   "source": []
  }
 ]
}